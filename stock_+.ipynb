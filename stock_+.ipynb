{
 "cells": [
  {
   "cell_type": "code",
   "execution_count": 2,
   "metadata": {},
   "outputs": [],
   "source": [
    "import numpy as np\n",
    "import json\n",
    "import requests\n",
    "import pandas as pd\n",
    "import matplotlib.pyplot as plt\n",
    "import scipy.stats as st\n",
    "import os\n",
    "import datetime\n",
    "\n",
    "from config import api_key"
   ]
  },
  {
   "cell_type": "code",
   "execution_count": 3,
   "metadata": {},
   "outputs": [
    {
     "name": "stdout",
     "output_type": "stream",
     "text": [
      "Processing XPH with code 200\n",
      "Processing PCM with code 200\n",
      "Processing XLP with code 200\n",
      "Processing XLY with code 200\n",
      "Processing XLE with code 200\n",
      "Processing XLF with code 200\n",
      "Processing XLV with code 200\n",
      "Processing XLI with code 200\n",
      "Processing XLB with code 200\n",
      "Processing XLRE with code 200\n",
      "Processing XLK with code 200\n",
      "Processing XLU with code 200\n"
     ]
    }
   ],
   "source": [
    "# Looking at stock performance by industry relevant indexes\n",
    "\n",
    "# Variable initialization\n",
    "close_daily_price =[]\n",
    "ticker_date = []\n",
    "delta = datetime.timedelta(days=1)\n",
    "\n",
    "# Search parameters\n",
    "industry_index = [\"XPH\",\"PCM\",\"XLP\",\"XLY\",\"XLE\",\"XLF\",\"XLV\", \"XLI\", \"XLB\", \"XLRE\", \"XLK\",\"XLU\"]\n",
    "start_date = datetime.datetime(2019,8,1)\n",
    "end_date = datetime.datetime(2020,7,31)\n",
    "base_url = 'https://www.alphavantage.co/query?function=TIME_SERIES_DAILY'\n",
    "\n",
    "# For loop to create the date column and create the results dataframe\n",
    "while start_date <= end_date:\n",
    "    \n",
    "    ticker_date.append(start_date)\n",
    "    \n",
    "    # Building the results dataframe\n",
    "    ticker_value_df = pd.DataFrame({'Date': ticker_date})\n",
    "    \n",
    "    start_date += delta\n",
    "                                    \n",
    "# Resetting start date\n",
    "start_date = datetime.datetime(2019,8,1)\n",
    "                                    \n",
    "# For loop to make the call for every industry index and retrieving the data\n",
    "for ticker in industry_index:\n",
    "    \n",
    "    # Building the search url\n",
    "    url = f'{base_url}&symbol={ticker}&outputsize=full&apikey={api_key}'\n",
    "    \n",
    "    # Making the API call\n",
    "    response = requests.get(url)\n",
    "    response_json = response.json()\n",
    "    \n",
    "    #Progress tracker\n",
    "    print (f'Processing {ticker} with code {response.status_code}')\n",
    "    \n",
    "    # Retrieving daily closing prices\n",
    "    while start_date <= end_date:\n",
    "    \n",
    "        # Obtaining date as string\n",
    "        string_date = start_date.strftime(\"%Y-%m-%d\")\n",
    "\n",
    "        # Exception for dates with no operation\n",
    "        try:\n",
    "            close_daily_price.append(float(response_json['Time Series (Daily)'][string_date][\"4. close\"]))\n",
    "        except (KeyError):\n",
    "            close_daily_price.append(0)  \n",
    "        \n",
    "        start_date += delta\n",
    "                                    \n",
    "    # Adding the current ticker to the dataframe\n",
    "    ticker_value_df[ticker] = pd.Series(close_daily_price)\n",
    "    close_daily_price.clear()\n",
    "    start_date = datetime.datetime(2019,8,1)\n",
    "    \n",
    "    print(\"API calls done\")"
   ]
  },
  {
   "cell_type": "code",
   "execution_count": 4,
   "metadata": {},
   "outputs": [
    {
     "data": {
      "text/html": [
       "<div>\n",
       "<style scoped>\n",
       "    .dataframe tbody tr th:only-of-type {\n",
       "        vertical-align: middle;\n",
       "    }\n",
       "\n",
       "    .dataframe tbody tr th {\n",
       "        vertical-align: top;\n",
       "    }\n",
       "\n",
       "    .dataframe thead th {\n",
       "        text-align: right;\n",
       "    }\n",
       "</style>\n",
       "<table border=\"1\" class=\"dataframe\">\n",
       "  <thead>\n",
       "    <tr style=\"text-align: right;\">\n",
       "      <th></th>\n",
       "      <th>Date</th>\n",
       "      <th>XPH</th>\n",
       "      <th>PCM</th>\n",
       "      <th>XLP</th>\n",
       "      <th>XLY</th>\n",
       "      <th>XLE</th>\n",
       "      <th>XLF</th>\n",
       "      <th>XLV</th>\n",
       "      <th>XLI</th>\n",
       "      <th>XLB</th>\n",
       "      <th>XLRE</th>\n",
       "      <th>XLK</th>\n",
       "      <th>XLU</th>\n",
       "    </tr>\n",
       "  </thead>\n",
       "  <tbody>\n",
       "    <tr>\n",
       "      <th>0</th>\n",
       "      <td>2019-08-01</td>\n",
       "      <td>37.95</td>\n",
       "      <td>11.25</td>\n",
       "      <td>59.22</td>\n",
       "      <td>119.08</td>\n",
       "      <td>61.28</td>\n",
       "      <td>27.61</td>\n",
       "      <td>91.26</td>\n",
       "      <td>0</td>\n",
       "      <td>0</td>\n",
       "      <td>0</td>\n",
       "      <td>0</td>\n",
       "      <td>0</td>\n",
       "    </tr>\n",
       "    <tr>\n",
       "      <th>1</th>\n",
       "      <td>2019-08-02</td>\n",
       "      <td>37.69</td>\n",
       "      <td>11.37</td>\n",
       "      <td>59.23</td>\n",
       "      <td>118.10</td>\n",
       "      <td>60.40</td>\n",
       "      <td>27.60</td>\n",
       "      <td>91.05</td>\n",
       "      <td>0</td>\n",
       "      <td>0</td>\n",
       "      <td>0</td>\n",
       "      <td>0</td>\n",
       "      <td>0</td>\n",
       "    </tr>\n",
       "    <tr>\n",
       "      <th>2</th>\n",
       "      <td>2019-08-03</td>\n",
       "      <td>0.00</td>\n",
       "      <td>0.00</td>\n",
       "      <td>0.00</td>\n",
       "      <td>0.00</td>\n",
       "      <td>0.00</td>\n",
       "      <td>0.00</td>\n",
       "      <td>0.00</td>\n",
       "      <td>0</td>\n",
       "      <td>0</td>\n",
       "      <td>0</td>\n",
       "      <td>0</td>\n",
       "      <td>0</td>\n",
       "    </tr>\n",
       "    <tr>\n",
       "      <th>3</th>\n",
       "      <td>2019-08-04</td>\n",
       "      <td>0.00</td>\n",
       "      <td>0.00</td>\n",
       "      <td>0.00</td>\n",
       "      <td>0.00</td>\n",
       "      <td>0.00</td>\n",
       "      <td>0.00</td>\n",
       "      <td>0.00</td>\n",
       "      <td>0</td>\n",
       "      <td>0</td>\n",
       "      <td>0</td>\n",
       "      <td>0</td>\n",
       "      <td>0</td>\n",
       "    </tr>\n",
       "    <tr>\n",
       "      <th>4</th>\n",
       "      <td>2019-08-05</td>\n",
       "      <td>36.61</td>\n",
       "      <td>11.27</td>\n",
       "      <td>57.69</td>\n",
       "      <td>114.93</td>\n",
       "      <td>58.60</td>\n",
       "      <td>26.68</td>\n",
       "      <td>88.91</td>\n",
       "      <td>0</td>\n",
       "      <td>0</td>\n",
       "      <td>0</td>\n",
       "      <td>0</td>\n",
       "      <td>0</td>\n",
       "    </tr>\n",
       "    <tr>\n",
       "      <th>...</th>\n",
       "      <td>...</td>\n",
       "      <td>...</td>\n",
       "      <td>...</td>\n",
       "      <td>...</td>\n",
       "      <td>...</td>\n",
       "      <td>...</td>\n",
       "      <td>...</td>\n",
       "      <td>...</td>\n",
       "      <td>...</td>\n",
       "      <td>...</td>\n",
       "      <td>...</td>\n",
       "      <td>...</td>\n",
       "      <td>...</td>\n",
       "    </tr>\n",
       "    <tr>\n",
       "      <th>361</th>\n",
       "      <td>2020-07-27</td>\n",
       "      <td>43.39</td>\n",
       "      <td>9.36</td>\n",
       "      <td>62.44</td>\n",
       "      <td>136.38</td>\n",
       "      <td>37.55</td>\n",
       "      <td>24.07</td>\n",
       "      <td>105.89</td>\n",
       "      <td>0</td>\n",
       "      <td>0</td>\n",
       "      <td>0</td>\n",
       "      <td>0</td>\n",
       "      <td>0</td>\n",
       "    </tr>\n",
       "    <tr>\n",
       "      <th>362</th>\n",
       "      <td>2020-07-28</td>\n",
       "      <td>43.06</td>\n",
       "      <td>9.34</td>\n",
       "      <td>62.67</td>\n",
       "      <td>135.03</td>\n",
       "      <td>36.91</td>\n",
       "      <td>24.01</td>\n",
       "      <td>105.77</td>\n",
       "      <td>0</td>\n",
       "      <td>0</td>\n",
       "      <td>0</td>\n",
       "      <td>0</td>\n",
       "      <td>0</td>\n",
       "    </tr>\n",
       "    <tr>\n",
       "      <th>363</th>\n",
       "      <td>2020-07-29</td>\n",
       "      <td>43.26</td>\n",
       "      <td>9.38</td>\n",
       "      <td>62.76</td>\n",
       "      <td>136.40</td>\n",
       "      <td>37.68</td>\n",
       "      <td>24.46</td>\n",
       "      <td>106.88</td>\n",
       "      <td>0</td>\n",
       "      <td>0</td>\n",
       "      <td>0</td>\n",
       "      <td>0</td>\n",
       "      <td>0</td>\n",
       "    </tr>\n",
       "    <tr>\n",
       "      <th>364</th>\n",
       "      <td>2020-07-30</td>\n",
       "      <td>43.31</td>\n",
       "      <td>9.45</td>\n",
       "      <td>62.76</td>\n",
       "      <td>136.29</td>\n",
       "      <td>36.20</td>\n",
       "      <td>24.02</td>\n",
       "      <td>106.14</td>\n",
       "      <td>0</td>\n",
       "      <td>0</td>\n",
       "      <td>0</td>\n",
       "      <td>0</td>\n",
       "      <td>0</td>\n",
       "    </tr>\n",
       "    <tr>\n",
       "      <th>365</th>\n",
       "      <td>2020-07-31</td>\n",
       "      <td>42.67</td>\n",
       "      <td>9.41</td>\n",
       "      <td>62.70</td>\n",
       "      <td>137.00</td>\n",
       "      <td>36.03</td>\n",
       "      <td>24.03</td>\n",
       "      <td>105.53</td>\n",
       "      <td>0</td>\n",
       "      <td>0</td>\n",
       "      <td>0</td>\n",
       "      <td>0</td>\n",
       "      <td>0</td>\n",
       "    </tr>\n",
       "  </tbody>\n",
       "</table>\n",
       "<p>366 rows × 13 columns</p>\n",
       "</div>"
      ],
      "text/plain": [
       "          Date    XPH    PCM    XLP     XLY    XLE    XLF     XLV  XLI  XLB  \\\n",
       "0   2019-08-01  37.95  11.25  59.22  119.08  61.28  27.61   91.26    0    0   \n",
       "1   2019-08-02  37.69  11.37  59.23  118.10  60.40  27.60   91.05    0    0   \n",
       "2   2019-08-03   0.00   0.00   0.00    0.00   0.00   0.00    0.00    0    0   \n",
       "3   2019-08-04   0.00   0.00   0.00    0.00   0.00   0.00    0.00    0    0   \n",
       "4   2019-08-05  36.61  11.27  57.69  114.93  58.60  26.68   88.91    0    0   \n",
       "..         ...    ...    ...    ...     ...    ...    ...     ...  ...  ...   \n",
       "361 2020-07-27  43.39   9.36  62.44  136.38  37.55  24.07  105.89    0    0   \n",
       "362 2020-07-28  43.06   9.34  62.67  135.03  36.91  24.01  105.77    0    0   \n",
       "363 2020-07-29  43.26   9.38  62.76  136.40  37.68  24.46  106.88    0    0   \n",
       "364 2020-07-30  43.31   9.45  62.76  136.29  36.20  24.02  106.14    0    0   \n",
       "365 2020-07-31  42.67   9.41  62.70  137.00  36.03  24.03  105.53    0    0   \n",
       "\n",
       "     XLRE  XLK  XLU  \n",
       "0       0    0    0  \n",
       "1       0    0    0  \n",
       "2       0    0    0  \n",
       "3       0    0    0  \n",
       "4       0    0    0  \n",
       "..    ...  ...  ...  \n",
       "361     0    0    0  \n",
       "362     0    0    0  \n",
       "363     0    0    0  \n",
       "364     0    0    0  \n",
       "365     0    0    0  \n",
       "\n",
       "[366 rows x 13 columns]"
      ]
     },
     "execution_count": 4,
     "metadata": {},
     "output_type": "execute_result"
    }
   ],
   "source": [
    "ticker_value_df"
   ]
  },
  {
   "cell_type": "code",
   "execution_count": 26,
   "metadata": {},
   "outputs": [
    {
     "data": {
      "text/html": [
       "<div>\n",
       "<style scoped>\n",
       "    .dataframe tbody tr th:only-of-type {\n",
       "        vertical-align: middle;\n",
       "    }\n",
       "\n",
       "    .dataframe tbody tr th {\n",
       "        vertical-align: top;\n",
       "    }\n",
       "\n",
       "    .dataframe thead th {\n",
       "        text-align: right;\n",
       "    }\n",
       "</style>\n",
       "<table border=\"1\" class=\"dataframe\">\n",
       "  <thead>\n",
       "    <tr style=\"text-align: right;\">\n",
       "      <th></th>\n",
       "      <th>Date</th>\n",
       "      <th>XPH</th>\n",
       "      <th>PCM</th>\n",
       "      <th>XLP</th>\n",
       "      <th>XLY</th>\n",
       "      <th>XLE</th>\n",
       "      <th>XLF</th>\n",
       "      <th>XLV</th>\n",
       "    </tr>\n",
       "  </thead>\n",
       "  <tbody>\n",
       "    <tr>\n",
       "      <th>0</th>\n",
       "      <td>2019-08-01</td>\n",
       "      <td>37.95</td>\n",
       "      <td>11.25</td>\n",
       "      <td>59.22</td>\n",
       "      <td>119.08</td>\n",
       "      <td>61.28</td>\n",
       "      <td>27.61</td>\n",
       "      <td>91.26</td>\n",
       "    </tr>\n",
       "    <tr>\n",
       "      <th>1</th>\n",
       "      <td>2019-08-02</td>\n",
       "      <td>37.69</td>\n",
       "      <td>11.37</td>\n",
       "      <td>59.23</td>\n",
       "      <td>118.10</td>\n",
       "      <td>60.40</td>\n",
       "      <td>27.60</td>\n",
       "      <td>91.05</td>\n",
       "    </tr>\n",
       "    <tr>\n",
       "      <th>2</th>\n",
       "      <td>2019-08-05</td>\n",
       "      <td>36.61</td>\n",
       "      <td>11.27</td>\n",
       "      <td>57.69</td>\n",
       "      <td>114.93</td>\n",
       "      <td>58.60</td>\n",
       "      <td>26.68</td>\n",
       "      <td>88.91</td>\n",
       "    </tr>\n",
       "    <tr>\n",
       "      <th>3</th>\n",
       "      <td>2019-08-06</td>\n",
       "      <td>36.72</td>\n",
       "      <td>11.39</td>\n",
       "      <td>58.21</td>\n",
       "      <td>116.68</td>\n",
       "      <td>58.53</td>\n",
       "      <td>27.11</td>\n",
       "      <td>90.06</td>\n",
       "    </tr>\n",
       "    <tr>\n",
       "      <th>4</th>\n",
       "      <td>2019-08-07</td>\n",
       "      <td>36.77</td>\n",
       "      <td>11.40</td>\n",
       "      <td>58.89</td>\n",
       "      <td>117.15</td>\n",
       "      <td>58.09</td>\n",
       "      <td>26.75</td>\n",
       "      <td>90.09</td>\n",
       "    </tr>\n",
       "    <tr>\n",
       "      <th>...</th>\n",
       "      <td>...</td>\n",
       "      <td>...</td>\n",
       "      <td>...</td>\n",
       "      <td>...</td>\n",
       "      <td>...</td>\n",
       "      <td>...</td>\n",
       "      <td>...</td>\n",
       "      <td>...</td>\n",
       "    </tr>\n",
       "    <tr>\n",
       "      <th>248</th>\n",
       "      <td>2020-07-27</td>\n",
       "      <td>43.39</td>\n",
       "      <td>9.36</td>\n",
       "      <td>62.44</td>\n",
       "      <td>136.38</td>\n",
       "      <td>37.55</td>\n",
       "      <td>24.07</td>\n",
       "      <td>105.89</td>\n",
       "    </tr>\n",
       "    <tr>\n",
       "      <th>249</th>\n",
       "      <td>2020-07-28</td>\n",
       "      <td>43.06</td>\n",
       "      <td>9.34</td>\n",
       "      <td>62.67</td>\n",
       "      <td>135.03</td>\n",
       "      <td>36.91</td>\n",
       "      <td>24.01</td>\n",
       "      <td>105.77</td>\n",
       "    </tr>\n",
       "    <tr>\n",
       "      <th>250</th>\n",
       "      <td>2020-07-29</td>\n",
       "      <td>43.26</td>\n",
       "      <td>9.38</td>\n",
       "      <td>62.76</td>\n",
       "      <td>136.40</td>\n",
       "      <td>37.68</td>\n",
       "      <td>24.46</td>\n",
       "      <td>106.88</td>\n",
       "    </tr>\n",
       "    <tr>\n",
       "      <th>251</th>\n",
       "      <td>2020-07-30</td>\n",
       "      <td>43.31</td>\n",
       "      <td>9.45</td>\n",
       "      <td>62.76</td>\n",
       "      <td>136.29</td>\n",
       "      <td>36.20</td>\n",
       "      <td>24.02</td>\n",
       "      <td>106.14</td>\n",
       "    </tr>\n",
       "    <tr>\n",
       "      <th>252</th>\n",
       "      <td>2020-07-31</td>\n",
       "      <td>42.67</td>\n",
       "      <td>9.41</td>\n",
       "      <td>62.70</td>\n",
       "      <td>137.00</td>\n",
       "      <td>36.03</td>\n",
       "      <td>24.03</td>\n",
       "      <td>105.53</td>\n",
       "    </tr>\n",
       "  </tbody>\n",
       "</table>\n",
       "<p>253 rows × 8 columns</p>\n",
       "</div>"
      ],
      "text/plain": [
       "          Date    XPH    PCM    XLP     XLY    XLE    XLF     XLV\n",
       "0   2019-08-01  37.95  11.25  59.22  119.08  61.28  27.61   91.26\n",
       "1   2019-08-02  37.69  11.37  59.23  118.10  60.40  27.60   91.05\n",
       "2   2019-08-05  36.61  11.27  57.69  114.93  58.60  26.68   88.91\n",
       "3   2019-08-06  36.72  11.39  58.21  116.68  58.53  27.11   90.06\n",
       "4   2019-08-07  36.77  11.40  58.89  117.15  58.09  26.75   90.09\n",
       "..         ...    ...    ...    ...     ...    ...    ...     ...\n",
       "248 2020-07-27  43.39   9.36  62.44  136.38  37.55  24.07  105.89\n",
       "249 2020-07-28  43.06   9.34  62.67  135.03  36.91  24.01  105.77\n",
       "250 2020-07-29  43.26   9.38  62.76  136.40  37.68  24.46  106.88\n",
       "251 2020-07-30  43.31   9.45  62.76  136.29  36.20  24.02  106.14\n",
       "252 2020-07-31  42.67   9.41  62.70  137.00  36.03  24.03  105.53\n",
       "\n",
       "[253 rows x 8 columns]"
      ]
     },
     "execution_count": 26,
     "metadata": {},
     "output_type": "execute_result"
    }
   ],
   "source": [
    "# Dropping rows with no values (no stocks operations)\n",
    "clean_df = ticker_value_df.loc[ticker_value_df[\"XPH\"]!=0].reset_index(drop=True)\n",
    "clean_df\n",
    "\n",
    "# Dropping columns with no data (Indexes not found in the API)\n",
    "\n",
    "# Creating the list with tickers to keep\n",
    "keep_columns = []\n",
    "\n",
    "for column in clean_df:\n",
    "    column_index = clean_df.columns.get_loc(column)   \n",
    "    if clean_df.iloc[0, column_index] != 0:\n",
    "        keep_columns.append(column)\n",
    "        \n",
    "clean_df = clean_df[keep_columns]\n",
    "\n",
    "clean_df"
   ]
  },
  {
   "cell_type": "code",
   "execution_count": 5,
   "metadata": {},
   "outputs": [
    {
     "data": {
      "text/html": [
       "<div>\n",
       "<style scoped>\n",
       "    .dataframe tbody tr th:only-of-type {\n",
       "        vertical-align: middle;\n",
       "    }\n",
       "\n",
       "    .dataframe tbody tr th {\n",
       "        vertical-align: top;\n",
       "    }\n",
       "\n",
       "    .dataframe thead th {\n",
       "        text-align: right;\n",
       "    }\n",
       "</style>\n",
       "<table border=\"1\" class=\"dataframe\">\n",
       "  <thead>\n",
       "    <tr style=\"text-align: right;\">\n",
       "      <th></th>\n",
       "      <th>Ticker</th>\n",
       "      <th>Initial</th>\n",
       "      <th>Final</th>\n",
       "      <th>Percentage Price Change</th>\n",
       "    </tr>\n",
       "  </thead>\n",
       "  <tbody>\n",
       "    <tr>\n",
       "      <th>0</th>\n",
       "      <td>XPH</td>\n",
       "      <td>37.95</td>\n",
       "      <td>42.67</td>\n",
       "      <td>12.44%</td>\n",
       "    </tr>\n",
       "    <tr>\n",
       "      <th>1</th>\n",
       "      <td>PCM</td>\n",
       "      <td>11.25</td>\n",
       "      <td>9.41</td>\n",
       "      <td>-16.36%</td>\n",
       "    </tr>\n",
       "    <tr>\n",
       "      <th>2</th>\n",
       "      <td>XLP</td>\n",
       "      <td>59.22</td>\n",
       "      <td>62.70</td>\n",
       "      <td>5.88%</td>\n",
       "    </tr>\n",
       "    <tr>\n",
       "      <th>3</th>\n",
       "      <td>XLY</td>\n",
       "      <td>119.08</td>\n",
       "      <td>137.00</td>\n",
       "      <td>15.05%</td>\n",
       "    </tr>\n",
       "    <tr>\n",
       "      <th>4</th>\n",
       "      <td>XLE</td>\n",
       "      <td>61.28</td>\n",
       "      <td>36.03</td>\n",
       "      <td>-41.20%</td>\n",
       "    </tr>\n",
       "    <tr>\n",
       "      <th>5</th>\n",
       "      <td>XLF</td>\n",
       "      <td>0.00</td>\n",
       "      <td>0.00</td>\n",
       "      <td>nan%</td>\n",
       "    </tr>\n",
       "    <tr>\n",
       "      <th>6</th>\n",
       "      <td>XLV</td>\n",
       "      <td>0.00</td>\n",
       "      <td>0.00</td>\n",
       "      <td>nan%</td>\n",
       "    </tr>\n",
       "    <tr>\n",
       "      <th>7</th>\n",
       "      <td>XLI</td>\n",
       "      <td>0.00</td>\n",
       "      <td>0.00</td>\n",
       "      <td>nan%</td>\n",
       "    </tr>\n",
       "    <tr>\n",
       "      <th>8</th>\n",
       "      <td>XLB</td>\n",
       "      <td>0.00</td>\n",
       "      <td>0.00</td>\n",
       "      <td>nan%</td>\n",
       "    </tr>\n",
       "    <tr>\n",
       "      <th>9</th>\n",
       "      <td>XLRE</td>\n",
       "      <td>0.00</td>\n",
       "      <td>0.00</td>\n",
       "      <td>nan%</td>\n",
       "    </tr>\n",
       "    <tr>\n",
       "      <th>10</th>\n",
       "      <td>XLK</td>\n",
       "      <td>0.00</td>\n",
       "      <td>0.00</td>\n",
       "      <td>nan%</td>\n",
       "    </tr>\n",
       "    <tr>\n",
       "      <th>11</th>\n",
       "      <td>XLU</td>\n",
       "      <td>0.00</td>\n",
       "      <td>0.00</td>\n",
       "      <td>nan%</td>\n",
       "    </tr>\n",
       "  </tbody>\n",
       "</table>\n",
       "</div>"
      ],
      "text/plain": [
       "   Ticker  Initial   Final Percentage Price Change\n",
       "0     XPH    37.95   42.67                  12.44%\n",
       "1     PCM    11.25    9.41                 -16.36%\n",
       "2     XLP    59.22   62.70                   5.88%\n",
       "3     XLY   119.08  137.00                  15.05%\n",
       "4     XLE    61.28   36.03                 -41.20%\n",
       "5     XLF     0.00    0.00                    nan%\n",
       "6     XLV     0.00    0.00                    nan%\n",
       "7     XLI     0.00    0.00                    nan%\n",
       "8     XLB     0.00    0.00                    nan%\n",
       "9    XLRE     0.00    0.00                    nan%\n",
       "10    XLK     0.00    0.00                    nan%\n",
       "11    XLU     0.00    0.00                    nan%"
      ]
     },
     "execution_count": 5,
     "metadata": {},
     "output_type": "execute_result"
    }
   ],
   "source": [
    "ticker_list=[]\n",
    "inititial_price=[]\n",
    "final_price=[]\n",
    "#For loop to retrive data\n",
    "for column in clean_df:\n",
    "    if column !=\"Date\":\n",
    "        ticker_list.append(column)\n",
    "        \n",
    "        ticker_initial=clean_df.loc[clean_df[\"Date\"]=='2019-08-01',column].tolist()\n",
    "        inititial_price.append(ticker_initial[0])\n",
    "        \n",
    "        ticker_final=clean_df.loc[clean_df[\"Date\"]=='2020-07-31',column].tolist()\n",
    "        final_price.append(ticker_final[0])\n",
    "        \n",
    "                       \n",
    "#Builiding the price change % dataframe\n",
    "ava_df=pd.DataFrame({\"Ticker\":ticker_list,\n",
    "                    \"Initial\":inititial_price,\n",
    "                    \"Final\":final_price,})\n",
    "\n",
    "#Comput price change%\n",
    "ava_df['Percentage Price Change']= (ava_df['Final']-ava_df['Initial'])/(ava_df['Initial'])\n",
    "ava_df['Percentage Price Change']=(ava_df['Percentage Price Change']*100).map(\"{:.2f}%\".format)\n",
    "ava_df"
   ]
  },
  {
   "cell_type": "code",
   "execution_count": 6,
   "metadata": {},
   "outputs": [
    {
     "data": {
      "image/png": "[encoded data removed]",
      "text/plain": [
       "<Figure size 432x288 with 1 Axes>"
      ]
     },
     "metadata": {
      "needs_background": "light"
     },
     "output_type": "display_data"
    }
   ],
   "source": [
    "ava_df.plot(kind=\"bar\")\n",
    "plt.xlabel(\"Ticker\")\n",
    "plt.ylabel(\"Percentage Price Change\")\n",
    "plt.show()"
   ]
  },
  {
   "cell_type": "code",
   "execution_count": 7,
   "metadata": {},
   "outputs": [
    {
     "data": {
      "text/plain": [
       "Text(0, 0.5, 'Price')"
      ]
     },
     "execution_count": 7,
     "metadata": {},
     "output_type": "execute_result"
    },
    {
     "data": {
      "image/png": "[encoded data removed]",
      "text/plain": [
       "<Figure size 432x288 with 1 Axes>"
      ]
     },
     "metadata": {
      "needs_background": "light"
     },
     "output_type": "display_data"
    }
   ],
   "source": [
    "# Generate a scatter plot XPH \n",
    "x_axis = clean_df[\"Date\"]\n",
    "tumsiz = clean_df[\"XPH\"]\n",
    "\n",
    "fig1, ax1 = plt.subplots()\n",
    "plt.title('XPH of stock')\n",
    "plt.plot(x_axis, tumsiz,linewidth=2, markersize=15,marker=\"o\",color=\"red\", label=\"Fahreneit\")\n",
    "plt.xlabel('Date')\n",
    "plt.ylabel('Price')"
   ]
  },
  {
   "cell_type": "code",
   "execution_count": 8,
   "metadata": {},
   "outputs": [
    {
     "data": {
      "text/plain": [
       "Text(0.5, 0, 'Date')"
      ]
     },
     "execution_count": 8,
     "metadata": {},
     "output_type": "execute_result"
    },
    {
     "data": {
      "image/png": "[encoded data removed]",
      "text/plain": [
       "<Figure size 432x288 with 1 Axes>"
      ]
     },
     "metadata": {
      "needs_background": "light"
     },
     "output_type": "display_data"
    }
   ],
   "source": [
    "x_axis = clean_df[\"Date\"]\n",
    "tumsiz = clean_df[\"PCM\"]\n",
    "\n",
    "fig1, ax1 = plt.subplots()\n",
    "plt.title('PCM of stock')\n",
    "plt.plot(x_axis, tumsiz,linewidth=2, markersize=15,marker=\"o\",color=\"green\", label=\"Fahreneit\")\n",
    "plt.xlabel('Date')"
   ]
  },
  {
   "cell_type": "code",
   "execution_count": 10,
   "metadata": {},
   "outputs": [
    {
     "data": {
      "text/plain": [
       "Text(0.5, 0, 'Date')"
      ]
     },
     "execution_count": 10,
     "metadata": {},
     "output_type": "execute_result"
    },
    {
     "data": {
      "image/png": "[encoded data removed]",
      "text/plain": [
       "<Figure size 432x288 with 1 Axes>"
      ]
     },
     "metadata": {
      "needs_background": "light"
     },
     "output_type": "display_data"
    }
   ],
   "source": [
    "x_axis = clean_df[\"Date\"]\n",
    "tumsiz = clean_df[\"XLP\"]\n",
    "\n",
    "fig1, ax1 = plt.subplots()\n",
    "plt.title('XLP of stock')\n",
    "plt.plot(x_axis, tumsiz,linewidth=2, markersize=15,marker=\"o\",color=\"blue\", label=\"Fahreneit\")\n",
    "plt.xlabel('Date')"
   ]
  },
  {
   "cell_type": "code",
   "execution_count": 11,
   "metadata": {},
   "outputs": [
    {
     "data": {
      "text/plain": [
       "Text(0.5, 0, 'Date')"
      ]
     },
     "execution_count": 11,
     "metadata": {},
     "output_type": "execute_result"
    },
    {
     "data": {
      "image/png": "[encoded data removed]",
      "text/plain": [
       "<Figure size 432x288 with 1 Axes>"
      ]
     },
     "metadata": {
      "needs_background": "light"
     },
     "output_type": "display_data"
    }
   ],
   "source": [
    "x_axis = clean_df[\"Date\"]\n",
    "tumsiz = clean_df[\"XLY\"]\n",
    "\n",
    "fig1, ax1 = plt.subplots()\n",
    "plt.title('XLY of stock')\n",
    "plt.plot(x_axis, tumsiz,linewidth=2, markersize=15,marker=\"o\",color=\"black\", label=\"Fahreneit\")\n",
    "plt.xlabel('Date')"
   ]
  },
  {
   "cell_type": "code",
   "execution_count": 12,
   "metadata": {},
   "outputs": [
    {
     "data": {
      "text/plain": [
       "Text(0.5, 0, 'Date')"
      ]
     },
     "execution_count": 12,
     "metadata": {},
     "output_type": "execute_result"
    },
    {
     "data": {
      "image/png": "[encoded data removed]",
      "text/plain": [
       "<Figure size 432x288 with 1 Axes>"
      ]
     },
     "metadata": {
      "needs_background": "light"
     },
     "output_type": "display_data"
    }
   ],
   "source": [
    "x_axis = clean_df[\"Date\"]\n",
    "tumsiz = clean_df[\"XLY\"]\n",
    "\n",
    "fig1, ax1 = plt.subplots()\n",
    "plt.title('XLY of stock')\n",
    "plt.plot(x_axis, tumsiz,linewidth=2, markersize=15,marker=\"o\",color=\"purple\", label=\"Fahreneit\")\n",
    "plt.xlabel('Date')"
   ]
  },
  {
   "cell_type": "code",
   "execution_count": 13,
   "metadata": {},
   "outputs": [
    {
     "data": {
      "text/plain": [
       "Text(0.5, 0, 'Date')"
      ]
     },
     "execution_count": 13,
     "metadata": {},
     "output_type": "execute_result"
    },
    {
     "data": {
      "image/png": "[encoded data removed]",
      "text/plain": [
       "<Figure size 432x288 with 1 Axes>"
      ]
     },
     "metadata": {
      "needs_background": "light"
     },
     "output_type": "display_data"
    }
   ],
   "source": [
    "x_axis = clean_df[\"Date\"]\n",
    "tumsiz = clean_df[\"XLE\"]\n",
    "\n",
    "fig1, ax1 = plt.subplots()\n",
    "plt.title('XLE of stock')\n",
    "plt.plot(x_axis, tumsiz,linewidth=2, markersize=15,marker=\"o\",color=\"silver\", label=\"Fahreneit\")\n",
    "plt.xlabel('Date')"
   ]
  },
  {
   "cell_type": "code",
   "execution_count": null,
   "metadata": {},
   "outputs": [],
   "source": []
  }
 ],
 "metadata": {
  "kernelspec": {
   "display_name": "Python 3",
   "language": "python",
   "name": "python3"
  },
  "language_info": {
   "codemirror_mode": {
    "name": "ipython",
    "version": 3
   },
   "file_extension": ".py",
   "mimetype": "text/x-python",
   "name": "python",
   "nbconvert_exporter": "python",
   "pygments_lexer": "ipython3",
   "version": "3.6.10"
  }
 },
 "nbformat": 4,
 "nbformat_minor": 4
}
