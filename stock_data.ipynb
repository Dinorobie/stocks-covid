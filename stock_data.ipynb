{
 "cells": [
  {
   "cell_type": "code",
   "execution_count": 5,
   "id": "6d02f533",
   "metadata": {},
   "outputs": [],
   "source": [
    "# Importing dependencies and libraries\n",
    "import numpy as np\n",
    "import json\n",
    "import requests\n",
    "import pandas as pd\n",
    "import matplotlib.pyplot as plt\n",
    "import scipy.stats as st\n",
    "import os\n",
    "import datetime\n",
    "\n",
    "from config import api_key\n"
   ]
  },
  {
   "cell_type": "code",
   "execution_count": 9,
   "id": "bb5ca7fd",
   "metadata": {},
   "outputs": [
    {
     "name": "stdout",
     "output_type": "stream",
     "text": [
      "https://www.alphavantage.co/query?function=TIME_SERIES_DAILY&symbol=XPH&outputsize=full&apikey=Z5BSGVDF3OM70WTB\n",
      "Start date: 2019-08-01 00:00:00 End date: 2020-07-31 00:00:00\n"
     ]
    }
   ],
   "source": [
    "# Looking at stock performance by industry relevant indexes\n",
    "\n",
    "# Search parameters\n",
    "industry_index = ['XPH']\n",
    "start_date = datetime.datetime(2019,8,1)\n",
    "end_date = datetime.datetime(2020,7,31)\n",
    "base_url = 'https://www.alphavantage.co/query?function=TIME_SERIES_DAILY'\n",
    "\n",
    "# For loop to make the call for every industry index and retrieving the data\n",
    "for index in industry_index:\n",
    "    \n",
    "    # Building the search url\n",
    "    url = f'{base_url}&symbol={index}&outputsize=full&apikey={api_key}'\n",
    "    print (url)\n",
    "    \n",
    "    # Making the API call\n",
    "    response = requests.get(url)\n",
    "    response_json = response.json()\n",
    "    \n",
    "    #convert date to string strftime(format)\n",
    "#     # Retrieving daily closing prices\n",
    "#     for single_date in (start_date + timedelta(n) for n in range(day_count))\n",
    "#     \"Time Series (Daily)\"\n",
    "\n",
    "print (f'Start date: {start_date} End date: {end_date}')"
   ]
  },
  {
   "cell_type": "code",
   "execution_count": null,
   "id": "2281c2f0",
   "metadata": {},
   "outputs": [],
   "source": []
  }
 ],
 "metadata": {
  "kernelspec": {
   "display_name": "PythonData",
   "language": "python",
   "name": "pythondata"
  },
  "language_info": {
   "codemirror_mode": {
    "name": "ipython",
    "version": 3
   },
   "file_extension": ".py",
   "mimetype": "text/x-python",
   "name": "python",
   "nbconvert_exporter": "python",
   "pygments_lexer": "ipython3",
   "version": "3.8.5"
  }
 },
 "nbformat": 4,
 "nbformat_minor": 5
}
