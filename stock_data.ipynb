{
 "cells": [
  {
   "cell_type": "code",
   "execution_count": 4,
   "id": "6d02f533",
   "metadata": {},
   "outputs": [],
   "source": [
    "# Importing dependencies and libraries\n",
    "import numpy as np\n",
    "import json\n",
    "import requests\n",
    "import pandas as pd\n",
    "import matplotlib.pyplot as plt\n",
    "import scipy.stats as st\n",
    "import os\n",
    "\n",
    "from config import api_key\n"
   ]
  },
  {
   "cell_type": "code",
   "execution_count": 5,
   "id": "bb5ca7fd",
   "metadata": {},
   "outputs": [
    {
     "name": "stdout",
     "output_type": "stream",
     "text": [
      "https://www.quandl.com/api/v3/datasets/WIKI/FB.json?column_index=4&start_date=2019-08-01&end_date=2020-07-31&collapse=monthly&transform=rdiff&api_key=j1ycCVHopTjR8s1Y5HtR\n"
     ]
    }
   ],
   "source": [
    "# Defining search parameters\n",
    "start_date = '2019-08-01' #August 1, 2019\n",
    "end_date = '2020-07-31'# July 31, 2020\n",
    "ticker = 'FB'\n",
    "api_key = api_key\n",
    "#Building the URL\n",
    "base_url = f\"https://www.quandl.com/api/v3/datasets/WIKI/{ticker}.json?column_index=4&start_date={start_date}&end_date={end_date}&collapse=monthly&transform=rdiff&api_key={api_key}\"\n",
    "\n",
    "print (base_url)"
   ]
  },
  {
   "cell_type": "code",
   "execution_count": null,
   "id": "2281c2f0",
   "metadata": {},
   "outputs": [],
   "source": []
  }
 ],
 "metadata": {
  "kernelspec": {
   "display_name": "PythonData",
   "language": "python",
   "name": "pythondata"
  },
  "language_info": {
   "codemirror_mode": {
    "name": "ipython",
    "version": 3
   },
   "file_extension": ".py",
   "mimetype": "text/x-python",
   "name": "python",
   "nbconvert_exporter": "python",
   "pygments_lexer": "ipython3",
   "version": "3.8.5"
  }
 },
 "nbformat": 4,
 "nbformat_minor": 5
}
