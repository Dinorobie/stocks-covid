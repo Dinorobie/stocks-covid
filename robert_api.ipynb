{
 "cells": [
  {
   "cell_type": "code",
   "execution_count": 1,
   "metadata": {},
   "outputs": [],
   "source": [
    "# Dependencies and Setup\n",
    "import matplotlib.pyplot as plt\n",
    "import pandas as pd\n",
    "import numpy as np\n",
    "import requests\n",
    "import time\n",
    "from scipy.stats import linregress\n",
    "\n",
    "# Import API key\n",
    "from api_keys import quandl_key"
   ]
  },
  {
   "cell_type": "code",
   "execution_count": 5,
   "metadata": {},
   "outputs": [],
   "source": [
    "url =\"https://www.quandl.com/api/v3/datasets/WIKI/AAPL.csv\"\n",
    "{\n",
    "  \"dataset\":{\n",
    "     \"id\":1,\n",
    "     \"dataset_code\":\"FB\",\n",
    "     \"database_code\":\"WIKI\",\n",
    "     \"name\":\"Facebook Inc. (FB) stock price\",\n",
    "     \"description\":\"End of day open, high, low\",\n",
    "     \"refreshed_at\":\"2015-07-31T17:46:36.000Z\",\n",
    "     \"newest_available_date\":\"2015-08-01\",\n",
    "     \"oldest_available_date\":\"2015-05-24\",\n",
    "     \"column_names\":[\n",
    "        \"Date\",\n",
    "        \"Open\",\n",
    "        \"High\",\n",
    "        \"Low\"\n",
    "     ],\n",
    "     \"frequency\":\"daily\",\n",
    "     \"type\":\"Time Series\",\n",
    "     \"premium\":false,\n",
    "     \"limit\":null,\n",
    "     \"transform\":null,\n",
    "     \"column_index\":null,\n",
    "     \"start_date\":\"2015-05-24\",\n",
    "     \"end_date\":\"2015-05-28\",\n",
    "     \"data\":[\n",
    "        [\n",
    "           \"2015-05-28\",\n",
    "           9.58,\n",
    "           10.17,\n",
    "           12.96\n",
    "        ],\n",
    "        [\n",
    "           \"2015-05-27\",\n",
    "           9.53,\n",
    "           10.13,\n",
    "           12.97\n",
    "        ],\n",
    "        [\n",
    "           \"2015-05-26\",\n",
    "           9.526415957480097,\n",
    "           10.11017545854056,\n",
    "           12.982029225784581\n",
    "        ]\n",
    "     ],\n",
    "     \"collapse\":null,\n",
    "     \"order\":\"desc\",\n",
    "     \"database_id\":1\n",
    "  }\n",
    "}"
   ]
  },
  {
   "cell_type": "code",
   "execution_count": null,
   "metadata": {},
   "outputs": [],
   "source": []
  }
 ],
 "metadata": {
  "kernelspec": {
   "display_name": "Python [conda env:PythonData]",
   "language": "python",
   "name": "conda-env-PythonData-py"
  },
  "language_info": {
   "codemirror_mode": {
    "name": "ipython",
    "version": 3
   },
   "file_extension": ".py",
   "mimetype": "text/x-python",
   "name": "python",
   "nbconvert_exporter": "python",
   "pygments_lexer": "ipython3",
   "version": "3.6.10"
  }
 },
 "nbformat": 4,
 "nbformat_minor": 4
}
